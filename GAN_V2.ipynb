{
  "nbformat": 4,
  "nbformat_minor": 0,
  "metadata": {
    "colab": {
      "name": "GAN_V2",
      "provenance": [],
      "collapsed_sections": [],
      "mount_file_id": "1TFouZ7PCgDkws__enPnWWms56Dlf-AHW",
      "authorship_tag": "ABX9TyMOlgj3KnmSPSb8uUlErdmK",
      "include_colab_link": true
    },
    "kernelspec": {
      "name": "python3",
      "display_name": "Python 3"
    },
    "accelerator": "GPU"
  },
  "cells": [
    {
      "cell_type": "markdown",
      "metadata": {
        "id": "view-in-github",
        "colab_type": "text"
      },
      "source": [
        "<a href=\"https://colab.research.google.com/github/Alphver/SinGAN/blob/master/GAN_V2.ipynb\" target=\"_parent\"><img src=\"https://colab.research.google.com/assets/colab-badge.svg\" alt=\"Open In Colab\"/></a>"
      ]
    },
    {
      "cell_type": "markdown",
      "metadata": {
        "id": "zK59a-YN_peF",
        "colab_type": "text"
      },
      "source": [
        "import necessary library"
      ]
    },
    {
      "cell_type": "code",
      "metadata": {
        "id": "fEU4VVN1_RLc",
        "colab_type": "code",
        "colab": {}
      },
      "source": [
        "import tensorflow as tf\n",
        "import tensorflow_addons as tfa\n",
        "\n",
        "from tensorflow.keras import layers\n",
        "import tensorflow.keras as keras\n",
        "import matplotlib.pyplot as plt\n",
        "import os\n",
        "import datetime\n",
        "import numpy as np\n",
        "\n",
        "import PIL \n"
      ],
      "execution_count": null,
      "outputs": []
    },
    {
      "cell_type": "code",
      "metadata": {
        "id": "aiG3tQvnEMBd",
        "colab_type": "code",
        "colab": {}
      },
      "source": [
        "def denorm_int(x):\n",
        "  return tf.cast((x+1.0)*127.5,tf.int8)"
      ],
      "execution_count": null,
      "outputs": []
    },
    {
      "cell_type": "code",
      "metadata": {
        "id": "_MRTgJRDEfWU",
        "colab_type": "code",
        "colab": {}
      },
      "source": [
        "def denorm_float(x):\n",
        "  return (x+1.0)/2.0"
      ],
      "execution_count": null,
      "outputs": []
    },
    {
      "cell_type": "markdown",
      "metadata": {
        "id": "xoR6YFXp3OMz",
        "colab_type": "text"
      },
      "source": [
        "Conv block"
      ]
    },
    {
      "cell_type": "code",
      "metadata": {
        "id": "S0KLJh3G3Niw",
        "colab_type": "code",
        "colab": {}
      },
      "source": [
        "def convBlock(filters, size, stride, norm = \"batch_norm\", activation=\"lrelu\",padd=\"valid\"):\n",
        "  initializer = tf.random_normal_initializer(0., 0.02)\n",
        "  #initializer = tf.keras.initializers.GlorotNormal()\n",
        "  result = tf.keras.Sequential()\n",
        "  if padd == \"none\":   \n",
        "    result.add(tf.keras.layers.Conv2D(filters, size, stride, kernel_initializer=initializer))\n",
        "  elif padd ==\"valid\":    \n",
        "    result.add(tf.keras.layers.Conv2D(filters, size, stride, padding='valid', kernel_initializer=initializer))\n",
        "\n",
        "\n",
        "  if norm == \"batch_norm\":\n",
        "    result.add(tf.keras.layers.BatchNormalization())\n",
        "  elif norm == \"instance_norm\":\n",
        "    result.add(tfa.layers.InstanceNormalization())\n",
        "  elif norm == \"none\":\n",
        "    pass\n",
        "  else:\n",
        "    print(\"parameter error\")   \n",
        "  \n",
        "  if activation == \"lrelu\":\n",
        "    result.add(tf.keras.layers.LeakyReLU(0.2))\n",
        "  elif activation == \"tanh\":\n",
        "    result.add(tf.keras.layers.Activation('tanh'))\n",
        "  elif activation == \"none\":\n",
        "    pass\n",
        "  else:\n",
        "    print(\"parameter error\")\n",
        "\n",
        "  return result"
      ],
      "execution_count": null,
      "outputs": []
    },
    {
      "cell_type": "markdown",
      "metadata": {
        "id": "4I9Aua2YJGMk",
        "colab_type": "text"
      },
      "source": [
        "Generator model"
      ]
    },
    {
      "cell_type": "code",
      "metadata": {
        "id": "V51NRNw_VsPn",
        "colab_type": "code",
        "colab": {
          "base_uri": "https://localhost:8080/",
          "height": 656
        },
        "outputId": "332f8291-3c04-4c5c-cbc0-5de46e7515b2"
      },
      "source": [
        "def create_generator(cur_scale):\n",
        "  filter_num = 32\n",
        "  pad = tf.keras.layers.ZeroPadding2D(5)\n",
        "\n",
        "  prev_img = tf.keras.layers.Input(shape=[None,None,3],name=\"prev_img\")\n",
        "  noise = tf.keras.layers.Input(shape=[None,None,3],name=\"noise\")\n",
        "  pad_prev_img = pad(prev_img)\n",
        "  pad_noise = pad(noise)\n",
        "\n",
        "  x = tf.keras.layers.Add()([pad_prev_img, pad_noise])\n",
        "  for i in range(4):\n",
        "    x = convBlock(filter_num, 3, 1)(x)\n",
        "  \n",
        "  x = convBlock(3, 3, 1, norm=\"none\",activation=\"tanh\")(x)\n",
        "  x = tf.keras.layers.Add()([prev_img,x])\n",
        "\n",
        "  return tf.keras.Model(inputs=[prev_img, noise], outputs=x)\n",
        "\n",
        "#unit testing\n",
        "g = create_generator(6)\n",
        "tf.keras.utils.plot_model(g, show_shapes=True, dpi=64)\n",
        "#g.save(\"generator.h5\")"
      ],
      "execution_count": null,
      "outputs": [
        {
          "output_type": "execute_result",
          "data": {
            "image/png": "[encoded data removed]",
            "text/plain": [
              "<IPython.core.display.Image object>"
            ]
          },
          "metadata": {
            "tags": []
          },
          "execution_count": 27
        }
      ]
    },
    {
      "cell_type": "markdown",
      "metadata": {
        "id": "6hcv1BdYBWdv",
        "colab_type": "text"
      },
      "source": [
        "Discriminator model"
      ]
    },
    {
      "cell_type": "code",
      "metadata": {
        "id": "QZPVCyHzBV--",
        "colab_type": "code",
        "colab": {
          "base_uri": "https://localhost:8080/",
          "height": 435
        },
        "outputId": "c6345078-1c96-4b0d-c986-03bd124f0b51"
      },
      "source": [
        "def create_discriminator(cur_scale):\n",
        "  filter_num = 32\n",
        "  img = tf.keras.layers.Input(shape=[None,None,3])\n",
        "  x = img\n",
        "\n",
        "  for i in range(4):\n",
        "    x = convBlock(filter_num, 3, 1)(x)\n",
        "\n",
        "  x = convBlock(1, 3, 1,norm = \"none\",activation=\"none\")(x)\n",
        "\n",
        "  return tf.keras.Model(inputs=img, outputs=x)\n",
        "\n",
        "#unit testing\n",
        "d = create_discriminator(6)\n",
        "tf.keras.utils.plot_model(d, show_shapes=True, dpi=64)\n",
        "#d.save(\"discriminator.h5\")"
      ],
      "execution_count": null,
      "outputs": [
        {
          "output_type": "execute_result",
          "data": {
            "image/png": "[encoded data removed]",
            "text/plain": [
              "<IPython.core.display.Image object>"
            ]
          },
          "metadata": {
            "tags": []
          },
          "execution_count": 28
        }
      ]
    },
    {
      "cell_type": "markdown",
      "metadata": {
        "id": "kIMuO8PIFx3O",
        "colab_type": "text"
      },
      "source": [
        "Load image"
      ]
    },
    {
      "cell_type": "code",
      "metadata": {
        "id": "CJzomXp5FxJk",
        "colab_type": "code",
        "colab": {}
      },
      "source": [
        "#return rescaled and [-1,1] float value image\n",
        "def load_and_preprocess(image_path):\n",
        "  max_size = 400\n",
        "  init_scale_factor = 0.75\n",
        "  image = PIL.Image.open(image_path).convert(\"RGB\")\n",
        "  image = tf.keras.preprocessing.image.img_to_array(image)\n",
        "  image = tf.dtypes.cast(image, tf.float32)\n",
        "  max_length = max(image.shape[0],image.shape[1])\n",
        "  if max_length > max_size:\n",
        "    resize_factor = max_size/max_length\n",
        "    resize_h = tf.cast(image.shape[0]*resize_factor, tf.int16)\n",
        "    resize_w = tf.cast(image.shape[1]*resize_factor, tf.int16)\n",
        "    image = tf.image.resize(image, [resize_h, resize_w],antialias=True)\n",
        "  #normalize the image value to [-1,1]\n",
        "  image = (image / 127.5) - 1.0\n",
        "  \n",
        "  return image\n",
        "#x = load_and_preprocess(\"cows.png\")"
      ],
      "execution_count": null,
      "outputs": []
    },
    {
      "cell_type": "code",
      "metadata": {
        "id": "AN7pJUUpGDcI",
        "colab_type": "code",
        "colab": {}
      },
      "source": [
        "#return 255 float value image\n",
        "def load_image(image_path):\n",
        "  image = PIL.Image.open(image_path).convert(\"RGB\")\n",
        "  image = tf.keras.preprocessing.image.img_to_array(image)\n",
        "  return image"
      ],
      "execution_count": null,
      "outputs": []
    },
    {
      "cell_type": "code",
      "metadata": {
        "id": "U3ZJurWfNmHU",
        "colab_type": "code",
        "colab": {}
      },
      "source": [
        "def calc_scale_and_factor(image):\n",
        "  #init parameters\n",
        "  init_factor = 0.75\n",
        "  min_size = 25\n",
        "\n",
        "  #decide the shorter length of image\n",
        "  short_length = min(image.shape[0],image.shape[1])\n",
        "\n",
        "  #step 1: calc approximate scale number\n",
        "  scale = tf.math.floor(tf.math.log(min_size/short_length)/tf.math.log(init_factor))\n",
        "\n",
        "  #step2: according to the scale number, calculate the scale factor\n",
        "  factor = tf.math.pow((min_size/short_length),1/scale)\n",
        "\n",
        "  #return int(scale+1), factor\n",
        "  return 6, 0.75\n",
        "\n",
        "#image = load_and_preprocess(\"night.jpg\")\n",
        "#sca ,fa = calc_scale_and_factor(image)"
      ],
      "execution_count": null,
      "outputs": []
    },
    {
      "cell_type": "markdown",
      "metadata": {
        "id": "bzVeTUjx9dEO",
        "colab_type": "text"
      },
      "source": [
        "Create downsamples"
      ]
    },
    {
      "cell_type": "code",
      "metadata": {
        "id": "SALH_Q5DzViQ",
        "colab_type": "code",
        "colab": {}
      },
      "source": [
        "def create_downsamples(image, scale,scale_factor):\n",
        "  MIN_IMAGE_SIZE = 25\n",
        "  downsample_images = []\n",
        "  image_h, image_w = image.shape[0], image.shape[1]\n",
        "  for cur_scale in range(scale):\n",
        "    resize_image_h = max(int(image_h * pow(scale_factor,cur_scale)),MIN_IMAGE_SIZE) \n",
        "    resize_image_w = max(int(image_w * pow(scale_factor,cur_scale)),MIN_IMAGE_SIZE)\n",
        "    \n",
        "    resize_image = tf.image.resize(image, [resize_image_h, resize_image_w],antialias=True)\n",
        "    resize_image = tf.expand_dims(resize_image,0)\n",
        "    downsample_images.append(resize_image)\n",
        "  \n",
        "  downsample_images.reverse()\n",
        "  for cur_scale in range(scale):\n",
        "    print(\"scale: \", cur_scale, \"shape:\",downsample_images[cur_scale].shape)\n",
        "\n",
        "  return downsample_images\n",
        "\n",
        "#x = load_and_preprocess(\"cows.png\")\n",
        "#y = create_downsamples(x,7)"
      ],
      "execution_count": null,
      "outputs": []
    },
    {
      "cell_type": "markdown",
      "metadata": {
        "id": "8pj7qatL9x1i",
        "colab_type": "text"
      },
      "source": [
        "gradient penalty"
      ]
    },
    {
      "cell_type": "code",
      "metadata": {
        "id": "4Kq5ohwo9uy1",
        "colab_type": "code",
        "colab": {}
      },
      "source": [
        "def gradient_penalty(dnet, real, gen_img):\n",
        "  epsilon = tf.random.uniform(shape=[1],maxval=1.0)\n",
        "  interpolation = epsilon * real + (1 - epsilon) * gen_img\n",
        "  with tf.GradientTape() as t:\n",
        "      t.watch(interpolation)\n",
        "      interpolation_score = dnet(interpolation)\n",
        "  gradients = t.gradient(interpolation_score, interpolation)\n",
        "  gradient_per_pixel = tf.sqrt(tf.reduce_sum(gradients ** 2, axis=[3]))\n",
        "  gp = tf.reduce_mean((gradient_per_pixel - 1.0) ** 2)\n",
        "  return gp"
      ],
      "execution_count": null,
      "outputs": []
    },
    {
      "cell_type": "markdown",
      "metadata": {
        "id": "QhK-9VCUgfjn",
        "colab_type": "text"
      },
      "source": [
        "Inference part"
      ]
    },
    {
      "cell_type": "code",
      "metadata": {
        "id": "8MErMVIFEQnG",
        "colab_type": "code",
        "colab": {}
      },
      "source": [
        "#generate random samples at generate_scale, return generated image with shape(height,width,3)\n",
        "def random_sample(trainer, generate_scale=0 ):\n",
        "  prev_ = tf.zeros_like(trainer.real_images[0])\n",
        "  for i in range(trainer.num_scale):\n",
        "    if i <  generate_scale:\n",
        "      noise = trainer.noise_rec[i]*trainer.noise_amp[i]\n",
        "    if i >= generate_scale:\n",
        "      noise = tf.random.normal(trainer.real_images[i].shape,0,0.2)\n",
        "      noise = noise * trainer.noise_amp[i]\n",
        "    prev_ = trainer.gnets[i]([prev_, noise])\n",
        "    if i != trainer.num_scale - 1:\n",
        "      prev_ = tf.image.resize(prev_,[trainer.real_images[i+1].shape[1],trainer.real_images[i+1].shape[2]])\n",
        "  img = denorm_float(prev_)\n",
        "  #plt.imshow(img[0])\n",
        "  return img[0]"
      ],
      "execution_count": null,
      "outputs": []
    },
    {
      "cell_type": "code",
      "metadata": {
        "id": "KVnEXiLkGEKf",
        "colab_type": "code",
        "colab": {}
      },
      "source": [
        "#inject an image at generate_scale, return generated image with shape(height,width,3)\n",
        "def inject_image(trainer, inject_image_path, generate_scale=1):\n",
        "  inject_image = load_image(inject_image_path)\n",
        "  inject_image = (inject_image/127.5)-1.0\n",
        "  if generate_scale ==0:\n",
        "    print(\"ERROR, generate scale is not allowed to be 0 in image manipulation task \")\n",
        "    return 0\n",
        "  else:\n",
        "    shape = trainer.real_images[generate_scale].shape\n",
        "    inject_image = tf.image.resize(inject_image,[shape[1],shape[2]])\n",
        "    prev_ = tf.expand_dims(inject_image,0)\n",
        "  for i in range(trainer.num_scale):\n",
        "    if i >= generate_scale:\n",
        "      noise = tf.random.normal(trainer.real_images[i].shape,0,0.2)\n",
        "      noise = noise * trainer.noise_amp[i]\n",
        "      #noise = trainer.noise_rec[i]*trainer.noise_amp[i]\n",
        "\n",
        "      prev_ = trainer.gnets[i]([prev_, noise])\n",
        "      if i != trainer.num_scale - 1:\n",
        "        prev_ = tf.image.resize(prev_,[trainer.real_images[i+1].shape[1],trainer.real_images[i+1].shape[2]])\n",
        "  img = denorm_float(prev_)\n",
        "  #plt.imshow(img[0])\n",
        "  return img[0]"
      ],
      "execution_count": null,
      "outputs": []
    },
    {
      "cell_type": "markdown",
      "metadata": {
        "id": "HsU_NMFaX8HU",
        "colab_type": "text"
      },
      "source": [
        "Main train"
      ]
    },
    {
      "cell_type": "code",
      "metadata": {
        "id": "P3GniIbiJNwn",
        "colab_type": "code",
        "colab": {}
      },
      "source": [
        "class main_train:\n",
        "  def __init__(self):\n",
        "    self.EPOCHS = 2001\n",
        "    self.D_STEP = 3\n",
        "    self.G_STEP = 3\n",
        "    self.ALPHA = 0.1\n",
        "    self.BETA = 10.0\n",
        "    self.dnets = []\n",
        "    self.gnets = []\n",
        "  \n",
        "  def preprocess(self,image_path):\n",
        "    self.file_name = image_path\n",
        "    image = load_and_preprocess(image_path)\n",
        "    self.num_scale, self.scale_factor = calc_scale_and_factor(image)\n",
        "    self.real_images = create_downsamples(image,self.num_scale,self.scale_factor)\n",
        "\n",
        "\n",
        "  def init_model(self):\n",
        "    for scale in range(self.num_scale):\n",
        "      dnet = create_discriminator(scale)\n",
        "      gnet = create_generator(scale)\n",
        "      self.dnets.append(dnet)\n",
        "      self.gnets.append(gnet)\n",
        "    self.noise_amp = [0. for i in range(self.num_scale)]\n",
        "    self.noise_rec = [0. for i in range(self.num_scale)]\n",
        "    \n",
        "  def save_model(self,scale):\n",
        "    d_dir = f'weight/{self.file_name}/d/{scale}'\n",
        "    g_dir = f'weight/{self.file_name}/g/{scale}'\n",
        "\n",
        "    self.dnets[scale].save_weights(d_dir, save_format='tf')\n",
        "    self.gnets[scale].save_weights(g_dir, save_format='tf')\n",
        "\n",
        "  def train_timer(self,last_time):\n",
        "    cur_time = datetime.datetime.now()\n",
        "    interval = (cur_time - last_time).seconds\n",
        "    interval_in_minute = interval/60.0\n",
        "    return interval_in_minute\n",
        "\n",
        "  def load_model(self,scale):\n",
        "    if scale%4 != 100:\n",
        "      self.dnets[scale].load_weights(f'weight/{self.file_name}/d/{scale-1}')\n",
        "      self.gnets[scale].load_weights(f'weight/{self.file_name}/g/{scale-1}')\n",
        "\n",
        "  def train(self,image_path):\n",
        "    #timer\n",
        "    start_time = datetime.datetime.now()\n",
        "\n",
        "    #load image and calculate scale, factor, and downsamole\n",
        "    self.preprocess(image_path)\n",
        "    self.init_model()\n",
        "\n",
        "    for cur_scale in range(self.num_scale):\n",
        "      scale_start_time = datetime.datetime.now()\n",
        "      #------training--------\n",
        "      self.train_single_scale(cur_scale)\n",
        "      self.save_model(cur_scale)\n",
        "      #------end-------------\n",
        "      interval = self.train_timer(scale_start_time)\n",
        "      print(f\"finish training scale {cur_scale}, used time: {interval}\")\n",
        "    amp_dir = f'weight/{self.file_name}/amp'\n",
        "    rec_dir = f'weight/{self.file_name}/rec'\n",
        "    np.save(amp_dir, self.noise_amp)\n",
        "    np.save(rec_dir, self.noise_rec[0])\n",
        "    interval = self.train_timer(start_time)\n",
        "    print(\"used time: \", interval)\n",
        "    self.train_status = True\n",
        "\n",
        "  def inference(self, inject_image_path, mode, generate_scale):\n",
        "    if mode == \"pure\":\n",
        "      random_sample(self,generate_scale)\n",
        "    elif mode == \"inject\":\n",
        "      inject_image(self,inject_image_path,generate_scale)\n",
        "\n",
        "  def train_single_scale(self,cur_scale):    \n",
        "    #network parameter\n",
        "    lr = tf.keras.optimizers.schedules.ExponentialDecay(5e-4, decay_steps=4800, decay_rate=0.1, staircase=True)\n",
        "    #lr_d = tf.keras.optimizers.schedules.ExponentialDecay(5e-4, decay_steps=1600, decay_rate=0.1, staircase=True)\n",
        "\n",
        "\n",
        "    g_optimizer = tf.keras.optimizers.Adam(lr, beta_1=0.5, beta_2 = 0.999)\n",
        "    d_optimizer = tf.keras.optimizers.Adam(lr, beta_1=0.5, beta_2 = 0.999)\n",
        "    if cur_scale != 0:\n",
        "      self.load_model(cur_scale)\n",
        "     \n",
        "    real_image = self.real_images[cur_scale]\n",
        "\n",
        "    for epoch in range(self.EPOCHS):\n",
        "      #noise_rec, prev_rec, noise_amp\n",
        "      if cur_scale == 0:\n",
        "        self.noise_rec[cur_scale] = tf.random.normal(real_image.shape,0,0.2)\n",
        "        prev_rec = tf.zeros_like(real_image)\n",
        "        prev_img = tf.zeros_like(real_image)\n",
        "        self.noise_amp[cur_scale]= 1.0\n",
        "      else:\n",
        "        self.noise_rec[cur_scale] = tf.zeros_like(real_image)\n",
        "        prev_rec = self.generate_prev_img(cur_scale,\"rec\")\n",
        "        prev_img = self.generate_prev_img(cur_scale,\"img\")\n",
        "        if epoch ==0:\n",
        "          RMSE = tf.math.sqrt(tf.reduce_mean(tf.square(real_image - prev_rec)))\n",
        "          self.noise_amp[cur_scale] = 0.1 * RMSE\n",
        "      \n",
        "      #prev_img, noise\n",
        "      noise = tf.random.normal(real_image.shape,0,0.2)\n",
        "      noise = noise * self.noise_amp[cur_scale]\n",
        "\n",
        "      \n",
        "      #----------------------------\n",
        "      #training discriminator\n",
        "      for step in range(self.D_STEP):\n",
        "        with tf.GradientTape() as disc_tape:\n",
        "          fake_image = self.gnets[cur_scale]([prev_img,noise])\n",
        "          d_real_score = tf.reduce_mean(self.dnets[cur_scale](real_image))\n",
        "          d_fake_score = tf.reduce_mean(self.dnets[cur_scale](fake_image))\n",
        "          d_adv_loss = d_fake_score - d_real_score\n",
        "          gp = gradient_penalty(self.dnets[cur_scale],real_image,fake_image)\n",
        "          d_loss = d_adv_loss + self.ALPHA * gp\n",
        "\n",
        "        d_grad = disc_tape.gradient(d_loss,self.dnets[cur_scale].trainable_variables)\n",
        "        d_optimizer.apply_gradients(zip(d_grad,self.dnets[cur_scale].trainable_variables))\n",
        "      \n",
        "      \n",
        "      #----------------------------\n",
        "      #training generator\n",
        "      for step in range(self.G_STEP):\n",
        "        with tf.GradientTape() as gen_tape:\n",
        "          fake_image = self.gnets[cur_scale]([prev_img,noise])\n",
        "          fake_rec = self.gnets[cur_scale]([prev_rec,self.noise_rec[cur_scale]])\n",
        "          g_real_score = tf.reduce_mean(self.dnets[cur_scale](real_image))\n",
        "          g_fake_score = tf.reduce_mean(self.dnets[cur_scale](fake_image))\n",
        "          g_adv_loss = -g_fake_score\n",
        "          rec_loss = tf.reduce_mean(tf.square(fake_rec - real_image))\n",
        "          g_loss = g_adv_loss + self.BETA * rec_loss\n",
        "        \n",
        "        g_grad = gen_tape.gradient(g_loss,self.gnets[cur_scale].trainable_variables)\n",
        "        g_optimizer.apply_gradients(zip(g_grad,self.gnets[cur_scale].trainable_variables))\n",
        "\n",
        "      shown_loss = tf.reduce_mean(tf.square(fake_image - real_image))\n",
        "\n",
        "      if epoch % 100 ==0:\n",
        "        print(\"epoch:  \",epoch)\n",
        "        print(\"d_real_score:        \",d_real_score)\n",
        "        print(\"d_fake_score:        \",d_fake_score)\n",
        "        #print(\"grad_penalty:        \",self.ALPHA * gp)\n",
        "        #print(\"d_loss:              \",d_loss)\n",
        "\n",
        "        print(\"g_real_score:        \",g_real_score)\n",
        "        print(\"g_fake_score:        \",g_fake_score)\n",
        "        print(\"rec_loss:            \",rec_loss)\n",
        "        print(\"exact loss:          \",shown_loss)\n",
        "        #print(\"g_loss:              \",g_loss)\n",
        "          \n",
        "    return 1\n",
        "\n",
        "\n",
        "\n",
        "  def generate_prev_img(self, cur_scale,mode):\n",
        "    #when cur_scale == 0\n",
        "    prev_ = tf.zeros_like(self.real_images[0])\n",
        "    if mode == \"rec\":\n",
        "      for i in range(cur_scale):\n",
        "        noise = self.noise_rec[i] * self.noise_amp[i]\n",
        "        prev_ = self.gnets[i]([prev_, noise])\n",
        "        prev_ = tf.image.resize(prev_,[self.real_images[i+1].shape[1],self.real_images[i+1].shape[2]])\n",
        "    \n",
        "    elif mode == \"img\":\n",
        "      for i in range(cur_scale):\n",
        "        noise = tf.random.normal(self.real_images[i].shape,0,0.2)\n",
        "        noise = noise * self.noise_amp[i]\n",
        "        prev_ = self.gnets[i]([prev_, noise])\n",
        "        prev_ = tf.image.resize(prev_,[self.real_images[i+1].shape[1],self.real_images[i+1].shape[2]])\n",
        "    \n",
        "    return prev_"
      ],
      "execution_count": null,
      "outputs": []
    },
    {
      "cell_type": "markdown",
      "metadata": {
        "id": "wAuEjKurq6Li",
        "colab_type": "text"
      },
      "source": [
        "Training single image"
      ]
    },
    {
      "cell_type": "code",
      "metadata": {
        "id": "d4ith09qfcZG",
        "colab_type": "code",
        "colab": {}
      },
      "source": [
        "trainer = main_train()\n",
        "trainer.train(\"6_wheat_field_vangogh.jpg\")"
      ],
      "execution_count": null,
      "outputs": []
    },
    {
      "cell_type": "markdown",
      "metadata": {
        "id": "w4vMu0wOrBkI",
        "colab_type": "text"
      },
      "source": [
        "Batch training"
      ]
    },
    {
      "cell_type": "code",
      "metadata": {
        "id": "cdRXT625l7Fx",
        "colab_type": "code",
        "colab": {}
      },
      "source": [
        "\"\"\"\n",
        "def batch_train(file_list):\n",
        "  for name in file_list:\n",
        "    trainer = main_train()\n",
        "    trainer.train(name)\n",
        "    source = f'weight/{trainer.file_name}'\n",
        "    des = f'drive/My\\ Drive/new_weight400/{trainer.file_name}'\n",
        "    print(source, des)\n",
        "    !cp -r $source $des\n",
        "\n",
        "file_list = ['example.jpg','balloons.png','sea.jpg']\n",
        "batch_train(file_list)\n",
        "\"\"\""
      ],
      "execution_count": null,
      "outputs": []
    },
    {
      "cell_type": "markdown",
      "metadata": {
        "id": "tgV4xa2i_z9G",
        "colab_type": "text"
      },
      "source": [
        "Inferencer"
      ]
    },
    {
      "cell_type": "code",
      "metadata": {
        "id": "nG5QqKWmoYax",
        "colab_type": "code",
        "colab": {}
      },
      "source": [
        "def save_img(image,path):\n",
        "  image *= 255.0\n",
        "  image = tf.clip_by_value(image, clip_value_min=0.0, clip_value_max=255.0)\n",
        "  image = PIL.Image.fromarray(np.array(image).astype(np.uint8).squeeze())\n",
        "  image.save(path)"
      ],
      "execution_count": null,
      "outputs": []
    },
    {
      "cell_type": "code",
      "metadata": {
        "id": "HzR-hAyUrg6j",
        "colab_type": "code",
        "colab": {}
      },
      "source": [
        "#this code is copied from SinGAN and modified.\n",
        "from skimage import color, morphology, filters\n",
        "def dilate_mask(mask,mode):\n",
        "    if mode == \"harmonization\":\n",
        "        element = morphology.disk(radius=1)\n",
        "    if mode == \"editing\":\n",
        "        element = morphology.disk(radius=20)\n",
        "    mask = mask[:,:,0]\n",
        "    mask = morphology.binary_dilation(mask,selem=element)\n",
        "    mask = filters.gaussian(mask, sigma=5)\n",
        "    mask = tf.expand_dims(mask,2)\n",
        "    return mask"
      ],
      "execution_count": null,
      "outputs": []
    },
    {
      "cell_type": "code",
      "metadata": {
        "id": "9NK6hzp_rgUB",
        "colab_type": "code",
        "colab": {}
      },
      "source": [
        "#loader use to load weight and parametes from trained model\n",
        "def create_loader(img_path):\n",
        "  loader = main_train()\n",
        "  #load num_scale, scale_factor, real_images\n",
        "  loader.preprocess(img_path)\n",
        "  #load gnet, noise_amp\n",
        "  loader.init_model()\n",
        "  for scale in range(loader.num_scale):\n",
        "    loader.gnets[scale].load_weights(f'weight/{loader.file_name}/g/{scale}')\n",
        "  amp_dir = f'weight/{loader.file_name}/amp.npy'\n",
        "  loader.noise_amp = np.load(amp_dir)\n",
        "  #load noise_rec\n",
        "  rec_dir = f'weight/{loader.file_name}/rec.npy'\n",
        "  loader.noise_rec[0] = tf.convert_to_tensor(np.load(rec_dir))\n",
        "  for scale in range(1,loader.num_scale):\n",
        "    loader.noise_rec[scale] = tf.zeros_like(loader.real_images[scale])\n",
        "  \n",
        "  return loader"
      ],
      "execution_count": null,
      "outputs": []
    },
    {
      "cell_type": "code",
      "metadata": {
        "id": "ELonKnBvJeNo",
        "colab_type": "code",
        "colab": {}
      },
      "source": [
        "def main_inference(mode,img_path,inject_path,mask_path,num_sample):\n",
        "  loader = create_loader(img_path)\n",
        "  dir_path = f'generated_image/{loader.file_name}/{mode}'\n",
        "  if not os.path.exists(dir_path):\n",
        "    os.makedirs(dir_path)\n",
        "  if mode == \"random\":\n",
        "    for i in range(num_sample):\n",
        "      result = random_sample(loader,0)\n",
        "      save_path = dir_path+f'/sample:{i}.jpg'\n",
        "      save_img(result,save_path)\n",
        "      plt.imshow(result)\n",
        "  elif mode == \"low_random\":\n",
        "    for start_scale in range(1,loader.num_scale):\n",
        "      result = random_sample(loader,start_scale)\n",
        "      save_path = dir_path+ f'/scale:{start_scale}.jpg'\n",
        "      save_img(result,save_path)\n",
        "      plt.imshow(result)\n",
        "  elif mode == \"paint\":\n",
        "    for start_scale in range(1,loader.num_scale):\n",
        "      result = inject_image(loader,inject_path,start_scale)\n",
        "      save_path = dir_path+f'/scale:{start_scale}.jpg'\n",
        "      save_img(result,save_path)\n",
        "      plt.imshow(result)\n",
        "  elif mode == \"harmonization\" or mode ==\"editing\":\n",
        "    for start_scale in range(1,loader.num_scale):\n",
        "      real = loader.real_images[-1]\n",
        "      real = denorm_float(real[0])\n",
        "      mask = load_image(mask_path)\n",
        "      mask = dilate_mask(mask,mode)\n",
        "      mask = tf.image.resize(mask,[real.shape[0],real.shape[1]],antialias = True)\n",
        "      fake = inject_image(loader,inject_path,start_scale)\n",
        "      result = mask * fake + (1-mask) * real\n",
        "      save_path = dir_path+f'/scale:{start_scale}.jpg'\n",
        "      save_img(result,save_path)\n",
        "      plt.imshow(result)\n",
        "  else:\n",
        "    print(\"mode parameter wrong\")"
      ],
      "execution_count": null,
      "outputs": []
    },
    {
      "cell_type": "markdown",
      "metadata": {
        "id": "jj4WgFVskm8K",
        "colab_type": "text"
      },
      "source": [
        "Inference instance"
      ]
    },
    {
      "cell_type": "code",
      "metadata": {
        "id": "hSHDhh3MRxrS",
        "colab_type": "code",
        "colab": {}
      },
      "source": [
        "\"\"\"\n",
        "First para:   It determines the mode of inference. It has random, low_random, paint, harmonization, and editing.\n",
        "Second para:  It is the the relative path of the training image.\n",
        "Third para:   It is the relative path of the injected image. It is used in the paint, harmonization, and editing mode.\n",
        "Fourth para:  It is the relative path of the masked injected image. It is used in the harmonization, and editing mode.\n",
        "Fivth para:   It determines the amount of generated image in random mode.\n",
        "\"\"\"\n",
        "main_inference(\"random\",\"wheat_field_vangogh.jpg\",None,None,20)"
      ],
      "execution_count": null,
      "outputs": []
    },
    {
      "cell_type": "code",
      "metadata": {
        "id": "OHNIGJGB_iuL",
        "colab_type": "code",
        "colab": {}
      },
      "source": [
        "#cp -r generated_image drive/My\\ Drive/sxsxsx"
      ],
      "execution_count": null,
      "outputs": []
    },
    {
      "cell_type": "markdown",
      "metadata": {
        "id": "SK-DpGWiPl7G",
        "colab_type": "text"
      },
      "source": [
        "remaining things(useless)"
      ]
    },
    {
      "cell_type": "code",
      "metadata": {
        "id": "mKMmjRQ2C1oh",
        "colab_type": "code",
        "colab": {}
      },
      "source": [
        "#check ge erated image at each scale\n",
        "def generate_scale(trainer,scale): \n",
        "  prev_ = trainer.generate_prev_img(scale,\"img\")\n",
        "  noise = tf.random.normal(trainer.real_images[scale].shape,0,0.2)\n",
        "  noise = noise * trainer.noise_amp[scale]\n",
        "  prev_ = trainer.gnets[scale]([prev_, noise])\n",
        "  prev_ = (prev_ + 1.0)/2.0\n",
        "  plt.imshow(prev_[0])\n",
        "\n",
        "generate_scale(trainer,1)"
      ],
      "execution_count": null,
      "outputs": []
    }
  ]
}